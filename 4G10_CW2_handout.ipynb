{
  "cells": [
    {
      "cell_type": "markdown",
      "metadata": {
        "id": "R2_OXpC5As4k"
      },
      "source": [
        "# 4G10 Coursework 2: predicting hand kinematics from neural data\n",
        "\n",
        "\n",
        "Please read carefully the last section of this notebook, which gives some of our expectations regarding your report.\n",
        "\n",
        "In this handout,\n",
        "- <u>text that is underlined</u> corresponds to things you have to do / implement.\n",
        "- **text in bold** corresponds to questions you need to answer in some form in your report.\n"
      ]
    },
    {
      "cell_type": "code",
      "execution_count": 2,
      "metadata": {
        "id": "uEshjqNkAs4q"
      },
      "outputs": [],
      "source": [
        "from io import BytesIO\n",
        "import numpy as np\n",
        "import matplotlib.pyplot as plt\n",
        "import requests"
      ]
    },
    {
      "cell_type": "markdown",
      "metadata": {
        "id": "qVBFUPcmAs4s"
      },
      "source": [
        "# 1. Setup\n",
        "\n",
        "In this piece of 4G10 coursework, you will use neural data recorded in the primary motor cortex (M1) of a reaching monkey to predict the kinematics of the monkey's hand.\n",
        "\n",
        "The monkey initiated each trial by placing their hand in the center of a fronto-parallel screen. A target then appeared on the screen. The monkey had to wait for a ‘go’ cue before making a reaching movement towards the instructed target. The targets were placed in various positions in a virtual maze, which changed in each trial, forcing the monkey to make a variety of reaching movements across trials.\n",
        "\n",
        "The activity of $N=162$ motor cortical neurons was recorded simultaneously, alongside the kinematics of the animal's hand.\n",
        "\n",
        "In the dataset presented below, all time series are partitioned into trials. Each trial begins at the go cue and lasts 800ms ($T = 16$ bins of 50ms duration) — roughly the duration of a reach."
      ]
    },
    {
      "cell_type": "code",
      "execution_count": 3,
      "metadata": {
        "id": "RRzgDxbpAs4t"
      },
      "outputs": [],
      "source": [
        "# grab the data from the server\n",
        "r = requests.get('http://4G10.cbl-cambridge.org/data.npz', stream = True)\n",
        "data = np.load(BytesIO(r.raw.read()))"
      ]
    },
    {
      "cell_type": "markdown",
      "metadata": {
        "id": "ttcs6Q92As4u"
      },
      "source": [
        "Among other things (detailed later), this dictionary numerical arrays indexed by the following keys:\n",
        "- `\"hand_train\" (2 × 400 × T)`: 2D velocity (X/Y) of the monkey's hand in 400 ‘train’ trials;\n",
        "- `\"neural_train\" (N × 400 × T)`: neural activity (spike counts) in the same 400 ‘train’ trials;\n",
        "- `\"neural_test\" (N × 100 × T)`: neural activity (spike counts) in 100 ‘test’ trials.\n",
        "\n",
        "E.g.:"
      ]
    },
    {
      "cell_type": "code",
      "execution_count": 4,
      "metadata": {
        "colab": {
          "base_uri": "https://localhost:8080/"
        },
        "id": "pBidnpibAs4u",
        "outputId": "ad98f918-fd5a-4b8d-91ae-3ece1bcaca92"
      },
      "outputs": [
        {
          "output_type": "execute_result",
          "data": {
            "text/plain": [
              "(2, 400, 16)"
            ]
          },
          "metadata": {},
          "execution_count": 4
        }
      ],
      "source": [
        "hand_train = data[\"hand_train\"]\n",
        "hand_train.shape"
      ]
    },
    {
      "cell_type": "markdown",
      "metadata": {
        "id": "XCjHmGr3As4v"
      },
      "source": [
        "The goal of this CW is to implement some of the modelling / decoding techniques you have been taught in lectures, to predict the monkey's 2D hand velocity in the 100 test trials for which you are only given neural activity. Your predictions will be based on the training data provided (`hand_train, neural_train`)."
      ]
    },
    {
      "cell_type": "markdown",
      "metadata": {
        "id": "LA_OaEGUAs4v"
      },
      "source": [
        "# 2. Baseline decoder: simple Gaussian smoothing + linear regression\n",
        "\n",
        "To establish a meaningful baseline, you will first implement a very simple two-stage decoder.\n",
        "In the first stage, you will smooth the spike count time series of each neuron by convolving it with a Gaussian filter of width $\\sigma$; in continuous time, such a Gaussian filter is given by $f(t) \\propto \\exp(-t^2/2\\sigma^2)$.\n",
        "In the second stage, you will use ridge regression to learn an instantaneous linear decoder given by\n",
        "\n",
        "$$ \\hat{v}_{k,t} = W \\tilde{x}_{k,t} $$\n",
        "\n",
        "where $\\hat{v}_{k, t} \\in \\mathbb{R}^2$ is the predicted velocity of the hand in test trial $k$ and time bin $t$, $\\tilde{x}_{k, t} \\in \\mathbb{R}^N$ is the $t^\\text{th}$ time bin of the temporally smoothed spike counts in test trial $k$, and $W$ is a `2 × N` matrix of decoding weights. Note that the hand velocity data has been centered already, so there is no need to include a bias term in the regression.\n",
        "\n",
        "The optimal ridge regression weights are given by\n",
        "$$  W^\\star = V \\tilde{X}^\\top (\\tilde{X} \\tilde{X}^\\top + \\lambda I_N )^{-1} $$\n",
        "where $V$ is the $2 × (400*16)$ matrix of hand velocities from the training set (with all trials and time bins concatenated horizontally), and similarly $\\tilde{X}$ is the $N × (400*16)$ matrix of smoothed neural spike counts in the training set.\n",
        "\n",
        "In the equation above, $\\lambda$ is a regularisation parameter which helps protect against overfitting.\n",
        "The choice of value for this parameter is left up to you, so long as you can provide a justification (there are several sensible possibilities).\n",
        "\n",
        "The goal here is to make the best possible predictions you can of the held out hand velocity data in test trials, based on the neural activity in the same trials. When you are ready to test your predictions, you can submit them as a 3D numpy array of shape `2 × 100 × 16` to http://4G10.cbl-cambridge.org (note: http, not https). If you get a “HTTP error 400” back, it probably means the format is wrong. Your numpy array must be saved using the `np.save(\"filename.npy\", my_array)` function; the server also expects the array to be of `float64` numerical type — this should be the default in numpy, but if in doubt you can always cast using `my_array.as_type(\"float64\")`. When you submit, please indicate your candidate number and choose \"Simple Gaussian smoothing\" in the dropdown list. Upon uploading, you will receive immediate feedback in the form of an $R^2$ coefficient. The closer to 1, the better!\n",
        "\n",
        "- <u>Implement Gaussian temporal smoothing + ridge regression as outlined above</u>.\n",
        "- **How does the quality of hand velocity predictions vary with the smoothing window length $\\sigma$? How do you interpret that?** You might want to experiment with values between 20 and 80 ms.\n",
        "- **Comment on the suitability of this simple decoding strategy for online (“on the fly”) decoding of movement in a BMI context (consider e.g. feasability, computational tractability, and accuracy). Can you think of a small modification to the above approach that would improve applicability to online decoding?** (bonus points for  implementing it!)\n",
        "- The hand velocity data provided in `data[\"hand_train\"]` had actually been shifted backward by 120ms relative to the neural data (and similarly for the test set, which was not given to you). **Can you speculate about why we did that**?"
      ]
    },
    {
      "cell_type": "code",
      "execution_count": 5,
      "metadata": {
        "colab": {
          "base_uri": "https://localhost:8080/"
        },
        "id": "MJ709-E1CM0J",
        "outputId": "3d48c59c-e941-47cc-db6a-2c2128b8ceb5"
      },
      "outputs": [
        {
          "output_type": "stream",
          "name": "stdout",
          "text": [
            "[0.00443305 0.05400558 0.24203623 0.39905028 0.24203623 0.05400558\n",
            " 0.00443305]\n"
          ]
        }
      ],
      "source": [
        "# access data neural_train and convolve with a kernel\n",
        "import numpy as np\n",
        "import math\n",
        "\n",
        "T_WIDTH = 50 # 16 bins at 50ms each\n",
        "sigma  = 50\n",
        "neural_train = data[\"neural_train\"]\n",
        "\n",
        "\n",
        "#for kernel exponential decrease but not statistically significant after 0.05\n",
        "def f(t):\n",
        "  return np.exp(-t**2/(2*sigma**2))\n",
        "\n",
        "def genKernel():\n",
        "  kernelDist = math.ceil(np.sqrt(np.log(0.05)*-2*(sigma**2))/T_WIDTH)\n",
        "  kernelLength = 2*kernelDist + 1\n",
        "  kernel = np.zeros(kernelLength)\n",
        "  t_step = -kernelDist * T_WIDTH\n",
        "  for item in range(kernelLength):\n",
        "    func = f(t_step)\n",
        "    kernel[item] = func\n",
        "    t_step += T_WIDTH\n",
        "\n",
        "  kernel /= np.sum(kernel)\n",
        "  print(kernel)\n",
        "  return kernel\n",
        "\n",
        "kernel = genKernel()\n",
        "\n",
        "\n",
        "def convolve_sequence(sequence):\n",
        "    return np.convolve(sequence, kernel, mode='same')\n",
        "\n",
        "# Apply the convolution along the last axis (-1)\n",
        "neural_train_smooth = np.apply_along_axis(convolve_sequence, axis=-1, arr=neural_train)\n",
        "\n",
        "\n"
      ]
    },
    {
      "cell_type": "code",
      "execution_count": 42,
      "metadata": {
        "colab": {
          "base_uri": "https://localhost:8080/"
        },
        "id": "1Bbs9wtiR2ED",
        "outputId": "e3c10cf6-6c70-420e-fbe5-0b2d4d16e4c2"
      },
      "outputs": [
        {
          "output_type": "stream",
          "name": "stdout",
          "text": [
            "(162, 400, 16)\n",
            "0.0001495469828673906\n",
            "(2, 162)\n"
          ]
        }
      ],
      "source": [
        "# and ridge regression w should be neuron dependent so do on a per neuron basis\n",
        "#generate weights using hand_train and neural_train_smooth\n",
        "print(neural_train_smooth.shape)\n",
        "V = hand_train.reshape(2,6400)\n",
        "X = neural_train_smooth.reshape(162,6400)\n",
        "speed_char = V.max()\n",
        "lamda = (sigma*0.001/(speed_char))**2#(speed_char/(sigma*10e-3))**2  # sigma/ chareteristic speed\n",
        "print(lamda)\n",
        "I_n = np.identity(162)\n",
        "W = V@X.T@np.linalg.inv(X@X.T + lamda *I_n)\n",
        "\n",
        "\n",
        "\n",
        "x_running = neural_train_smooth.transpose(1,2,0)#400,16,162\n",
        "print(W.shape)\n",
        "V_estimates = (W @ X).reshape(2,400,16)\n"
      ]
    },
    {
      "cell_type": "markdown",
      "metadata": {
        "id": "a2ZsWbPu0-oZ"
      },
      "source": [
        "Pick a $\\lambda$ based on a sensible reason ?? $V_{charerteristic}/\\sigma$ since this wasw the recomendation from 06 decoding lecture slide 12"
      ]
    },
    {
      "cell_type": "code",
      "execution_count": 43,
      "metadata": {
        "colab": {
          "base_uri": "https://localhost:8080/",
          "height": 490
        },
        "id": "4wKHLktC3F8r",
        "outputId": "6d0f84b4-69a6-4c42-9283-8c349d0da343"
      },
      "outputs": [
        {
          "output_type": "stream",
          "name": "stdout",
          "text": [
            "(2, 400, 16) (2, 400, 16)\n"
          ]
        },
        {
          "output_type": "display_data",
          "data": {
            "text/plain": [
              "<Figure size 640x480 with 1 Axes>"
            ],
            "image/png": "[encoded data removed]"
          },
          "metadata": {}
        }
      ],
      "source": [
        "import numpy as np\n",
        "import matplotlib.pyplot as plt\n",
        "\n",
        "# Number of points (intervals from 0 to 15)\n",
        "num_points = 16  # This will create 16 points including 0 and 15\n",
        "\n",
        "# Create x-axis values: evenly spaced intervals from 0 to 15\n",
        "x = np.linspace(0, 15, num_points)\n",
        "\n",
        "# Input your own y-values for the two graphs\n",
        "# Replace these with your own data\n",
        "a = 80 #cond\n",
        "\n",
        "print(V_estimates.shape,data[\"hand_train\"].shape)\n",
        "# First graph y-values\n",
        "y1 = (V_estimates.reshape(400,2,16))\n",
        "\n",
        "# Second graph y-values\n",
        "\n",
        "y2 = (data[\"hand_train\"].transpose(1,0,2))\n",
        "# Ensure that y1 and y2 have the same length as x\n",
        "# If necessary, adjust num_points or your y-values accordingly\n",
        "\n",
        "# Plot the two graphs\n",
        "plt.plot(y1[a][0], y1[a][1], marker='o', linestyle='-', label='V_estimates')\n",
        "plt.plot(y2[a][0], y2[a][1], marker='s', label='hand train')\n",
        "\n",
        "# Add labels and title\n",
        "plt.xlabel('X-axis')\n",
        "plt.ylabel('Y-axis')\n",
        "plt.title('Ridge Regression')\n",
        "\n",
        "# Add a legend\n",
        "plt.legend()\n",
        "\n",
        "# Display the plot\n",
        "plt.grid(True)\n",
        "plt.show()"
      ]
    },
    {
      "cell_type": "code",
      "execution_count": 44,
      "metadata": {
        "id": "oxxBKkDYF85P",
        "colab": {
          "base_uri": "https://localhost:8080/",
          "height": 17
        },
        "outputId": "40a7832a-de7c-4bb3-8ef7-39ef36d6fd34"
      },
      "outputs": [
        {
          "output_type": "display_data",
          "data": {
            "text/plain": [
              "<IPython.core.display.Javascript object>"
            ],
            "application/javascript": [
              "\n",
              "    async function download(id, filename, size) {\n",
              "      if (!google.colab.kernel.accessAllowed) {\n",
              "        return;\n",
              "      }\n",
              "      const div = document.createElement('div');\n",
              "      const label = document.createElement('label');\n",
              "      label.textContent = `Downloading \"${filename}\": `;\n",
              "      div.appendChild(label);\n",
              "      const progress = document.createElement('progress');\n",
              "      progress.max = size;\n",
              "      div.appendChild(progress);\n",
              "      document.body.appendChild(div);\n",
              "\n",
              "      const buffers = [];\n",
              "      let downloaded = 0;\n",
              "\n",
              "      const channel = await google.colab.kernel.comms.open(id);\n",
              "      // Send a message to notify the kernel that we're ready.\n",
              "      channel.send({})\n",
              "\n",
              "      for await (const message of channel.messages) {\n",
              "        // Send a message to notify the kernel that we're ready.\n",
              "        channel.send({})\n",
              "        if (message.buffers) {\n",
              "          for (const buffer of message.buffers) {\n",
              "            buffers.push(buffer);\n",
              "            downloaded += buffer.byteLength;\n",
              "            progress.value = downloaded;\n",
              "          }\n",
              "        }\n",
              "      }\n",
              "      const blob = new Blob(buffers, {type: 'application/binary'});\n",
              "      const a = document.createElement('a');\n",
              "      a.href = window.URL.createObjectURL(blob);\n",
              "      a.download = filename;\n",
              "      div.appendChild(a);\n",
              "      a.click();\n",
              "      div.remove();\n",
              "    }\n",
              "  "
            ]
          },
          "metadata": {}
        },
        {
          "output_type": "display_data",
          "data": {
            "text/plain": [
              "<IPython.core.display.Javascript object>"
            ],
            "application/javascript": [
              "download(\"download_b507ae73-dd47-46b3-9407-2db134a918e9\", \"filename.npy\", 25728)"
            ]
          },
          "metadata": {}
        }
      ],
      "source": [
        "#test sendoff\n",
        "#thats awful i got Your test R2 is: 0.447\n",
        "import numpy as np\n",
        "from google.colab import files\n",
        "\n",
        "# Assuming data and W are already defined\n",
        "neural_test = data[\"neural_test\"]\n",
        "neural_test_smooth = np.apply_along_axis(convolve_sequence, axis=-1, arr=neural_test)\n",
        "\n",
        "neural_test_smooth_reshape = neural_test_smooth.reshape(162,1600)\n",
        "V_test_estimates_test = (W @ neural_test_smooth_reshape).reshape(2,100,16)\n",
        "\n",
        "# Save the file\n",
        "filename = \"filename.npy\"\n",
        "np.save(filename, V_test_estimates_test)\n",
        "\n",
        "# Download the file to the browser\n",
        "files.download(filename)"
      ]
    },
    {
      "cell_type": "markdown",
      "metadata": {
        "id": "ldKMj_qo93Ge"
      },
      "source": [
        "**-The hand velocity data provided in data[\"hand_train\"] had actually been shifted backward by 120ms relative to the neural data (and similarly for the test set, which was not given to you). Can you speculate about why we did that**\n",
        "\n",
        "This is probably down to the delay in signal transmition frim the brain to the body. Since there is this delay looking at the hand actions is acctually looking at what the brain told the hand some time ago\n",
        "\n",
        "**-How does the quality of hand velocity predictions vary with the smoothing window length  σ ? How do you interpret that? You might want to experiment with values between 20 and 80 ms.**\n",
        "\n",
        "at 20ms the main features are captured but there is a substatial amount of noise\n",
        "\n",
        "at 80 ms and 50 ms the signal is well smoothed but there are new imaginary features that are not present with the hand some features are smoothed out\n",
        "\n",
        "at about 35 ms allot of noise is present but more features are captured\n",
        "\n",
        "i think 50 ms captures the features the best\n",
        "\n",
        "some major movments are ignoored\n",
        "\n",
        "**Comment on the suitability of this simple decoding strategy for online (“on the fly”) decoding of movement in a BMI context (consider e.g. feasability, computational tractability, and accuracy). Can you think of a small modification to the above approach that would improve applicability to online decoding? (bonus points for implementing it!**\n",
        "\n",
        "this is probably quite unsutable as experiments have shown the aaccuracy drops off as soon as this decoder is used without any feedback.\n",
        "\n",
        "\n"
      ]
    },
    {
      "cell_type": "markdown",
      "metadata": {
        "id": "lovptOvlAs4w"
      },
      "source": [
        "# 3. Kalman filter-based decoding\n",
        "\n",
        "We now turn to a more sophisticated decoder based on a Kalman filter/smoother.\n",
        "\n",
        "### 3.1 An autoregressive prior for hand kinematics\n",
        "\n",
        "A 10-dimensional linear latent dynamical system (“LDS”; cf lecture notes) was pre-trained for you on the hand velocity data in the training set; specifically, we consider the following generative model:\n",
        "\n",
        "$$\n",
        "(1) \\qquad z_{k, 0} \\sim \\mathcal{N}(\\mu_0, \\Sigma_0) \\\\\n",
        "(2) \\qquad z_{k, t+1} = A z_{k, t} + \\epsilon_{k, t+1} \\quad \\text{with } \\epsilon_{k, t+1} \\sim \\mathcal{N}(0, Q) \\\\\n",
        "(3) \\qquad v_{k, t} = C z_{k, t} + \\eta_{k, t} \\quad \\text{with } \\eta_{k, t} \\sim \\mathcal{N}(0, R)\n",
        "$$\n",
        "\n",
        "where $z_{k, t} \\in \\mathbb{R}^{10}$ is the latent state in time bin $t$ of trial $k$, and $v_{k, t} \\in \\mathbb{R}^2$ is the corresponding hand velocity.\n",
        "\n",
        "The parameters of this LDS can be found in the same `data` dictionary as above, with the following keys:\n",
        "- \"hand_KF_A\" (`10 × 10`): state matrix $A$\n",
        "- \"hand_KF_C\" (`2 × 10`): output matrix $C$\n",
        "- \"hand_KF_mu0\" (`10 × 1`): initial prior mean $\\mu_0$\n",
        "- \"hand_KF_Sigma0\" (`10 × 10`): initial prior covariance $\\Sigma_0$\n",
        "- \"hand_KF_Q\" (`10 × 10`): process noise covariance matrix $Q$\n",
        "- \"hand_KF_R\" (`2 × 2`): observation noise covariance matrix $R$\n",
        "\n",
        "<u>Write your own Kalman smoother implementation and use it to compute the mean $\\hat{z}_{k, 1:T}$ of the smoothing distribution $p(z_{k, t} | v_{k, 1:T})$, for each trial $k$ in the training set.</u>\n"
      ]
    },
    {
      "cell_type": "markdown",
      "metadata": {
        "id": "xpuYxX5Cb0AC"
      },
      "source": [
        "$\\begin{align*}\n",
        "p(z_t | v_{1:t}) &= \\mathcal{N}(\\mu_t, \\Sigma_t) \\\\\n",
        "\\mu_{t+1} &= \\Sigma_{t+1} \\left[(A \\Sigma_t A^\\top + BB^\\top)^{-1} A \\mu_t + C^\\top R^{-1} v_{t+1} \\right]\n",
        "\\end{align*}$\n",
        "\n",
        "this seems to be the equasion to do the kalman filtering?? is this the same as smoothing\n",
        "\n",
        "a slightly diffrent version was found in another set of notes\n",
        "\n",
        "$\\Sigma_{t+1}^{-1} = C^T R^{-1} C + (A \\Sigma_t A^T + BB^T)^{-1}$\n",
        "\n",
        "$\\mu_{t+1} = \\Sigma_{t+1} \\left[ (A \\Sigma_t A^T + BB^T)^{-1} A \\mu_t + C^T R^{-1} x_{t+1} \\right]$\n",
        "\n",
        "So should $\\Sigma$ change? i think yes since there is variation value on value but as you move away from the start there is also variation. hence yes lots of big change"
      ]
    },
    {
      "cell_type": "code",
      "execution_count": 9,
      "metadata": {
        "colab": {
          "base_uri": "https://localhost:8080/"
        },
        "id": "TACJZy89VL0z",
        "outputId": "87afcc11-fd19-49b5-b8b6-6c7d61d5e823"
      },
      "outputs": [
        {
          "output_type": "stream",
          "name": "stdout",
          "text": [
            "(400, 16, 10)\n",
            "(400, 16, 10, 10)\n"
          ]
        }
      ],
      "source": [
        "#build a kalman smoothing function\n",
        "import numpy as np\n",
        "#stuff\n",
        "A = data[\"hand_KF_A\"]\n",
        "C = data[\"hand_KF_C\"]\n",
        "mu0 = data[\"hand_KF_mu0\"]\n",
        "Sigma0 = data[\"hand_KF_Sigma0\"]\n",
        "Q = data[\"hand_KF_Q\"]\n",
        "R = data[\"hand_KF_R\"]\n",
        "\n",
        "# something has clearly gone a little wrong the since this is LDS it is not done on an element wise bases but rather a\n",
        "#for each of the trial k in the training set????\n",
        "#size is either 2x400x16 or 162x400x16\n",
        "# inverting to a 10dim dimensional space\n",
        "# how do you slect x_t+1 perhaps i look at each hand seperatley since their is only 1 per dimension\n",
        "#Z_hat is not the same as the neuron impulses and is just the neumron stuff\n",
        "\n",
        "def futureSigma(Last_sigma):\n",
        "  sigma_t_add_one_inv = C.T@np.linalg.inv(R)@C + np.linalg.inv(A@Last_sigma@A.T + Q)\n",
        "  return  np.linalg.inv(sigma_t_add_one_inv)\n",
        "\n",
        "def mu_t_add_one(mu_t,V_add_one, future_sigma):\n",
        "\n",
        "  adj_ret_data = A@mu_t + future_sigma@C.T@np.linalg.inv(R)@(V_add_one-C@A@mu_t)\n",
        "  #print(adj_ret_data.shape)\n",
        "  #ret_data = future_sigma@np.linalg.inv(A@sigma_current@A.T+Q)@A@mu_t+C.T@np.linalg.inv(R)@V_add_one\n",
        "\n",
        "  return adj_ret_data\n",
        "\n",
        "def createmu():\n",
        "    # Reshape hand_train to (400, 2, 16)\n",
        "    hand_train_reshaped = hand_train.transpose(1, 0, 2)\n",
        "    neuron_chain = []  # Will hold data for 400 neurons\n",
        "    neuron_chain_sigma = []\n",
        "\n",
        "    for n in range(400):\n",
        "        mu_chain = [mu0]  # Initialize mu_chain with mu0\n",
        "        sequence_length = hand_train_reshaped.shape[2]  # Should be 16\n",
        "        sigma_chain = [Sigma0]\n",
        "\n",
        "        for number in range(sequence_length - 1):\n",
        "            # Get data from both hands for neuron n at time number + 1\n",
        "            dataLocal = np.matrix(hand_train_reshaped[n, :, number + 1]).T\n",
        "            future_Sigma = futureSigma(sigma_chain[-1])\n",
        "\n",
        "            # Compute mu_t_add_one using data from both hands\n",
        "            mu_t = mu_t_add_one(\n",
        "                mu_chain[-1],\n",
        "                dataLocal,\n",
        "                future_Sigma\n",
        "            )\n",
        "            mu_chain.append(mu_t)\n",
        "            sigma_chain.append(future_Sigma)\n",
        "\n",
        "\n",
        "        # Convert mu_chain to a numpy array of shape (16, 10)\n",
        "\n",
        "        mu_chain_array = np.array(mu_chain).T[0]\n",
        "        neuron_chain.append(mu_chain_array)\n",
        "\n",
        "        sigma_chain_array = np.array(sigma_chain)\n",
        "        neuron_chain_sigma.append(sigma_chain_array)\n",
        "\n",
        "    # Convert neuron_chain to a numpy array of shape (400, 16, 10)\n",
        "    neuron_chain_array = np.array(neuron_chain)\n",
        "\n",
        "    neuron_sigma_chain_array = np.array(neuron_chain_sigma)\n",
        "\n",
        "    # go to shape (400, 10, 16)\n",
        "    neuron_chain_array = neuron_chain_array.transpose(0, 2, 1)\n",
        "    #neuron_sigma_chain_array = neuron_sigma_chain_array.transpose(0, 2, 1)\n",
        "\n",
        "    return neuron_chain_array, neuron_sigma_chain_array\n",
        "\n",
        "filtered_neuro_train, associatedSigma = createmu()\n",
        "\n",
        "print(filtered_neuro_train.shape)\n",
        "\n",
        "print(associatedSigma.shape)\n",
        "\n",
        "#TODO: i think my sigma update step is correct where i simply add the process noise to the sigma error"
      ]
    },
    {
      "cell_type": "markdown",
      "metadata": {
        "id": "m2omrNQjptzd"
      },
      "source": [
        "$G_t \\equiv \\Sigma_t A^T (A \\Sigma_t A^T + B B^T)^{-1}$\n",
        "\n",
        "$\\tilde{\\mu}_t = \\mu_t + G_t (\\tilde{\\mu}_{t+1} - A \\mu_t)$\n",
        "\n",
        "$\\tilde{\\Sigma}_t = \\Sigma_t + G_t (\\tilde{\\Sigma}_{t+1} - P_t) G_t^T$\n",
        "\n",
        "this set of equasions was found in the extension notes for section 4 and indicates the backwards propigation needed to complete the smoothing process"
      ]
    },
    {
      "cell_type": "code",
      "execution_count": 10,
      "metadata": {
        "colab": {
          "base_uri": "https://localhost:8080/"
        },
        "id": "sH1Jw5r6qHUo",
        "outputId": "6eb47ff2-90f1-45c4-8451-0d70822ec2e2"
      },
      "outputs": [
        {
          "output_type": "stream",
          "name": "stdout",
          "text": [
            "(16, 10, 10)\n",
            "(400, 16, 10)\n"
          ]
        }
      ],
      "source": [
        "#this function will back propigate through the function\n",
        "#step 1 make a set of 16 G_t to use\n",
        "#step 2 back propigate to get mu_t\n",
        "#step 3 back propigate to get sigma_t\n",
        "\n",
        "#step1\n",
        "sigma_relevant = associatedSigma[0]\n",
        "\n",
        "def gen_G_t():\n",
        "  time_step_stor = []\n",
        "  sig = [Sigma0]\n",
        "  for step in range(16):\n",
        "    futsig= A@sig[-1]@A.T + Q\n",
        "    G_t = sig[-1]@A.T@np.linalg.inv(futsig)\n",
        "    time_step_stor.append(G_t)\n",
        "    sig.append(futsig)\n",
        "  return np.array(time_step_stor)\n",
        "\n",
        "G_t = gen_G_t()\n",
        "print(G_t.shape)\n",
        "#step 2\n",
        "\n",
        "def mu_mean_smooth(filtered_neuro_train,A,G_t):\n",
        "\n",
        "  top_store = []\n",
        "\n",
        "  for cond in filtered_neuro_train:\n",
        "    mu_hat_store = [cond[-1]]\n",
        "\n",
        "    for timeStep in range(len(cond)-1,0,-1):\n",
        "      mu = cond[timeStep]\n",
        "      mu_add_one_hat = mu_hat_store[0]\n",
        "      mu_hat = mu + G_t[timeStep]@(mu_add_one_hat-A@mu) # this shouldnt do anything ???/\n",
        "      mu_hat_store.insert(0,mu_hat)\n",
        "\n",
        "    top_store.append(mu_hat_store)\n",
        "\n",
        "  return np.array(top_store)\n",
        "\n",
        "mu_mean_pzv = mu_mean_smooth(filtered_neuro_train,A,G_t)\n",
        "\n",
        "print(mu_mean_pzv.shape)\n",
        "\n",
        "# step 3 needs to be done"
      ]
    },
    {
      "cell_type": "code",
      "execution_count": 11,
      "metadata": {
        "colab": {
          "base_uri": "https://localhost:8080/"
        },
        "id": "kJ6HAlJrPp2a",
        "outputId": "35eef10d-8f99-4555-d69b-faa286bf6763"
      },
      "outputs": [
        {
          "output_type": "stream",
          "name": "stdout",
          "text": [
            "(400, 16, 10, 10)\n"
          ]
        }
      ],
      "source": [
        "#stage 3\n",
        "\n",
        "# Assuming that:\n",
        "# Sigma has shape (400, 16, 10, 10)\n",
        "# G has shape (16, 10, 10) [the same G_t for all conditions, varying by time step]\n",
        "# A has shape (10, 10)\n",
        "# The terminal condition is that tilde_Sigma at the last time step t=15 (0-based index) is equal to Sigma at t=15.\n",
        "\n",
        "def backprop_tilde_Sigma(Sigma, G, A):\n",
        "    # Extract dimensions\n",
        "    num_conditions, num_timesteps, m, n = Sigma.shape\n",
        "    assert m == n == 10, \"Sigma matrices must be 10x10.\"\n",
        "    assert G.shape == (num_timesteps, 10, 10), \"G must be of shape (16,10,10).\"\n",
        "    assert A.shape == (10, 10), \"A must be 10x10.\"\n",
        "\n",
        "    # Initialize tilde_Sigma with the same shape as Sigma\n",
        "    tilde_Sigma = np.zeros_like(Sigma)\n",
        "\n",
        "    # For each condition, we perform the backpropagation\n",
        "    for cond in range(num_conditions):\n",
        "        # Set terminal condition:\n",
        "        # tilde_Sigma_{T-1} = Sigma_{T-1}, where T=16, so T-1=15 (0-based indexing)\n",
        "        tilde_Sigma[cond, -1] = Sigma[cond, -1]\n",
        "\n",
        "        # Backpropagate from t=14 down to t=0\n",
        "        for t in reversed(range(num_timesteps - 1)):\n",
        "            # Compute P_t = A * Sigma_t * A^T\n",
        "            P_t = A @ Sigma[cond, t] @ A.T + Q\n",
        "\n",
        "            # Compute tilde_Sigma_t\n",
        "            # tilde_Sigma_t = Sigma_t + G_t (tilde_Sigma_{t+1} - P_t) G_t^T\n",
        "            tilde_Sigma[cond, t] = Sigma[cond, t] + G[t] @ (tilde_Sigma[cond, t+1] - P_t) @ G[t].T\n",
        "\n",
        "    return tilde_Sigma\n",
        "\n",
        "tilde_Sigma_PZV = backprop_tilde_Sigma(associatedSigma,G_t,A)\n",
        "print(tilde_Sigma_PZV.shape)\n"
      ]
    },
    {
      "cell_type": "code",
      "execution_count": 12,
      "metadata": {
        "id": "v8EK3kGeRx-S",
        "colab": {
          "base_uri": "https://localhost:8080/",
          "height": 778
        },
        "outputId": "46be6618-556f-4ef6-801e-a7813e18eb09"
      },
      "outputs": [
        {
          "output_type": "error",
          "ename": "ValueError",
          "evalue": "'p' is not a valid value for color",
          "traceback": [
            "\u001b[0;31m---------------------------------------------------------------------------\u001b[0m",
            "\u001b[0;31mValueError\u001b[0m                                Traceback (most recent call last)",
            "\u001b[0;32m<ipython-input-12-9f31271c7387>\u001b[0m in \u001b[0;36m<cell line: 47>\u001b[0;34m()\u001b[0m\n\u001b[1;32m     45\u001b[0m \u001b[0mplt\u001b[0m\u001b[0;34m.\u001b[0m\u001b[0mplot\u001b[0m\u001b[0;34m(\u001b[0m\u001b[0mx1\u001b[0m\u001b[0;34m[\u001b[0m\u001b[0;36m0\u001b[0m\u001b[0;34m]\u001b[0m\u001b[0;34m,\u001b[0m \u001b[0mx1\u001b[0m\u001b[0;34m[\u001b[0m\u001b[0;36m1\u001b[0m\u001b[0;34m]\u001b[0m\u001b[0;34m,\u001b[0m \u001b[0mlabel\u001b[0m\u001b[0;34m=\u001b[0m\u001b[0;34m'vxmu'\u001b[0m\u001b[0;34m,\u001b[0m \u001b[0mcolor\u001b[0m\u001b[0;34m=\u001b[0m\u001b[0;34m'blue'\u001b[0m\u001b[0;34m,\u001b[0m \u001b[0mmarker\u001b[0m\u001b[0;34m=\u001b[0m\u001b[0;34m'o'\u001b[0m\u001b[0;34m)\u001b[0m\u001b[0;34m\u001b[0m\u001b[0;34m\u001b[0m\u001b[0m\n\u001b[1;32m     46\u001b[0m \u001b[0mplt\u001b[0m\u001b[0;34m.\u001b[0m\u001b[0mplot\u001b[0m\u001b[0;34m(\u001b[0m\u001b[0mx2\u001b[0m\u001b[0;34m[\u001b[0m\u001b[0;36m0\u001b[0m\u001b[0;34m]\u001b[0m\u001b[0;34m,\u001b[0m \u001b[0mx2\u001b[0m\u001b[0;34m[\u001b[0m\u001b[0;36m1\u001b[0m\u001b[0;34m]\u001b[0m\u001b[0;34m,\u001b[0m \u001b[0mlabel\u001b[0m\u001b[0;34m=\u001b[0m\u001b[0;34m'train'\u001b[0m\u001b[0;34m,\u001b[0m \u001b[0mcolor\u001b[0m\u001b[0;34m=\u001b[0m\u001b[0;34m'red'\u001b[0m\u001b[0;34m,\u001b[0m \u001b[0mmarker\u001b[0m\u001b[0;34m=\u001b[0m\u001b[0;34m's'\u001b[0m\u001b[0;34m)\u001b[0m\u001b[0;34m\u001b[0m\u001b[0;34m\u001b[0m\u001b[0m\n\u001b[0;32m---> 47\u001b[0;31m \u001b[0mplt\u001b[0m\u001b[0;34m.\u001b[0m\u001b[0mplot\u001b[0m\u001b[0;34m(\u001b[0m\u001b[0mx0\u001b[0m\u001b[0;34m[\u001b[0m\u001b[0;36m0\u001b[0m\u001b[0;34m]\u001b[0m\u001b[0;34m,\u001b[0m \u001b[0mx0\u001b[0m\u001b[0;34m[\u001b[0m\u001b[0;36m1\u001b[0m\u001b[0;34m]\u001b[0m\u001b[0;34m,\u001b[0m \u001b[0mlabel\u001b[0m\u001b[0;34m=\u001b[0m\u001b[0;34m'this'\u001b[0m\u001b[0;34m,\u001b[0m \u001b[0mcolor\u001b[0m\u001b[0;34m=\u001b[0m\u001b[0;34m'p'\u001b[0m\u001b[0;34m,\u001b[0m \u001b[0mmarker\u001b[0m\u001b[0;34m=\u001b[0m\u001b[0;34m's'\u001b[0m\u001b[0;34m)\u001b[0m\u001b[0;34m\u001b[0m\u001b[0;34m\u001b[0m\u001b[0m\n\u001b[0m\u001b[1;32m     48\u001b[0m \u001b[0;34m\u001b[0m\u001b[0m\n\u001b[1;32m     49\u001b[0m \u001b[0;34m\u001b[0m\u001b[0m\n",
            "\u001b[0;32m/usr/local/lib/python3.10/dist-packages/matplotlib/pyplot.py\u001b[0m in \u001b[0;36mplot\u001b[0;34m(scalex, scaley, data, *args, **kwargs)\u001b[0m\n\u001b[1;32m   3576\u001b[0m     \u001b[0;34m**\u001b[0m\u001b[0mkwargs\u001b[0m\u001b[0;34m,\u001b[0m\u001b[0;34m\u001b[0m\u001b[0;34m\u001b[0m\u001b[0m\n\u001b[1;32m   3577\u001b[0m ) -> list[Line2D]:\n\u001b[0;32m-> 3578\u001b[0;31m     return gca().plot(\n\u001b[0m\u001b[1;32m   3579\u001b[0m         \u001b[0;34m*\u001b[0m\u001b[0margs\u001b[0m\u001b[0;34m,\u001b[0m\u001b[0;34m\u001b[0m\u001b[0;34m\u001b[0m\u001b[0m\n\u001b[1;32m   3580\u001b[0m         \u001b[0mscalex\u001b[0m\u001b[0;34m=\u001b[0m\u001b[0mscalex\u001b[0m\u001b[0;34m,\u001b[0m\u001b[0;34m\u001b[0m\u001b[0;34m\u001b[0m\u001b[0m\n",
            "\u001b[0;32m/usr/local/lib/python3.10/dist-packages/matplotlib/axes/_axes.py\u001b[0m in \u001b[0;36mplot\u001b[0;34m(self, scalex, scaley, data, *args, **kwargs)\u001b[0m\n\u001b[1;32m   1719\u001b[0m         \"\"\"\n\u001b[1;32m   1720\u001b[0m         \u001b[0mkwargs\u001b[0m \u001b[0;34m=\u001b[0m \u001b[0mcbook\u001b[0m\u001b[0;34m.\u001b[0m\u001b[0mnormalize_kwargs\u001b[0m\u001b[0;34m(\u001b[0m\u001b[0mkwargs\u001b[0m\u001b[0;34m,\u001b[0m \u001b[0mmlines\u001b[0m\u001b[0;34m.\u001b[0m\u001b[0mLine2D\u001b[0m\u001b[0;34m)\u001b[0m\u001b[0;34m\u001b[0m\u001b[0;34m\u001b[0m\u001b[0m\n\u001b[0;32m-> 1721\u001b[0;31m         \u001b[0mlines\u001b[0m \u001b[0;34m=\u001b[0m \u001b[0;34m[\u001b[0m\u001b[0;34m*\u001b[0m\u001b[0mself\u001b[0m\u001b[0;34m.\u001b[0m\u001b[0m_get_lines\u001b[0m\u001b[0;34m(\u001b[0m\u001b[0mself\u001b[0m\u001b[0;34m,\u001b[0m \u001b[0;34m*\u001b[0m\u001b[0margs\u001b[0m\u001b[0;34m,\u001b[0m \u001b[0mdata\u001b[0m\u001b[0;34m=\u001b[0m\u001b[0mdata\u001b[0m\u001b[0;34m,\u001b[0m \u001b[0;34m**\u001b[0m\u001b[0mkwargs\u001b[0m\u001b[0;34m)\u001b[0m\u001b[0;34m]\u001b[0m\u001b[0;34m\u001b[0m\u001b[0;34m\u001b[0m\u001b[0m\n\u001b[0m\u001b[1;32m   1722\u001b[0m         \u001b[0;32mfor\u001b[0m \u001b[0mline\u001b[0m \u001b[0;32min\u001b[0m \u001b[0mlines\u001b[0m\u001b[0;34m:\u001b[0m\u001b[0;34m\u001b[0m\u001b[0;34m\u001b[0m\u001b[0m\n\u001b[1;32m   1723\u001b[0m             \u001b[0mself\u001b[0m\u001b[0;34m.\u001b[0m\u001b[0madd_line\u001b[0m\u001b[0;34m(\u001b[0m\u001b[0mline\u001b[0m\u001b[0;34m)\u001b[0m\u001b[0;34m\u001b[0m\u001b[0;34m\u001b[0m\u001b[0m\n",
            "\u001b[0;32m/usr/local/lib/python3.10/dist-packages/matplotlib/axes/_base.py\u001b[0m in \u001b[0;36m__call__\u001b[0;34m(self, axes, data, *args, **kwargs)\u001b[0m\n\u001b[1;32m    301\u001b[0m                 \u001b[0mthis\u001b[0m \u001b[0;34m+=\u001b[0m \u001b[0margs\u001b[0m\u001b[0;34m[\u001b[0m\u001b[0;36m0\u001b[0m\u001b[0;34m]\u001b[0m\u001b[0;34m,\u001b[0m\u001b[0;34m\u001b[0m\u001b[0;34m\u001b[0m\u001b[0m\n\u001b[1;32m    302\u001b[0m                 \u001b[0margs\u001b[0m \u001b[0;34m=\u001b[0m \u001b[0margs\u001b[0m\u001b[0;34m[\u001b[0m\u001b[0;36m1\u001b[0m\u001b[0;34m:\u001b[0m\u001b[0;34m]\u001b[0m\u001b[0;34m\u001b[0m\u001b[0;34m\u001b[0m\u001b[0m\n\u001b[0;32m--> 303\u001b[0;31m             yield from self._plot_args(\n\u001b[0m\u001b[1;32m    304\u001b[0m                 axes, this, kwargs, ambiguous_fmt_datakey=ambiguous_fmt_datakey)\n\u001b[1;32m    305\u001b[0m \u001b[0;34m\u001b[0m\u001b[0m\n",
            "\u001b[0;32m/usr/local/lib/python3.10/dist-packages/matplotlib/axes/_base.py\u001b[0m in \u001b[0;36m_plot_args\u001b[0;34m(self, axes, tup, kwargs, return_kwargs, ambiguous_fmt_datakey)\u001b[0m\n\u001b[1;32m    537\u001b[0m             \u001b[0;32mreturn\u001b[0m \u001b[0mlist\u001b[0m\u001b[0;34m(\u001b[0m\u001b[0mresult\u001b[0m\u001b[0;34m)\u001b[0m\u001b[0;34m\u001b[0m\u001b[0;34m\u001b[0m\u001b[0m\n\u001b[1;32m    538\u001b[0m         \u001b[0;32melse\u001b[0m\u001b[0;34m:\u001b[0m\u001b[0;34m\u001b[0m\u001b[0;34m\u001b[0m\u001b[0m\n\u001b[0;32m--> 539\u001b[0;31m             \u001b[0;32mreturn\u001b[0m \u001b[0;34m[\u001b[0m\u001b[0ml\u001b[0m\u001b[0;34m[\u001b[0m\u001b[0;36m0\u001b[0m\u001b[0;34m]\u001b[0m \u001b[0;32mfor\u001b[0m \u001b[0ml\u001b[0m \u001b[0;32min\u001b[0m \u001b[0mresult\u001b[0m\u001b[0;34m]\u001b[0m\u001b[0;34m\u001b[0m\u001b[0;34m\u001b[0m\u001b[0m\n\u001b[0m\u001b[1;32m    540\u001b[0m \u001b[0;34m\u001b[0m\u001b[0m\n\u001b[1;32m    541\u001b[0m \u001b[0;34m\u001b[0m\u001b[0m\n",
            "\u001b[0;32m/usr/local/lib/python3.10/dist-packages/matplotlib/axes/_base.py\u001b[0m in \u001b[0;36m<listcomp>\u001b[0;34m(.0)\u001b[0m\n\u001b[1;32m    537\u001b[0m             \u001b[0;32mreturn\u001b[0m \u001b[0mlist\u001b[0m\u001b[0;34m(\u001b[0m\u001b[0mresult\u001b[0m\u001b[0;34m)\u001b[0m\u001b[0;34m\u001b[0m\u001b[0;34m\u001b[0m\u001b[0m\n\u001b[1;32m    538\u001b[0m         \u001b[0;32melse\u001b[0m\u001b[0;34m:\u001b[0m\u001b[0;34m\u001b[0m\u001b[0;34m\u001b[0m\u001b[0m\n\u001b[0;32m--> 539\u001b[0;31m             \u001b[0;32mreturn\u001b[0m \u001b[0;34m[\u001b[0m\u001b[0ml\u001b[0m\u001b[0;34m[\u001b[0m\u001b[0;36m0\u001b[0m\u001b[0;34m]\u001b[0m \u001b[0;32mfor\u001b[0m \u001b[0ml\u001b[0m \u001b[0;32min\u001b[0m \u001b[0mresult\u001b[0m\u001b[0;34m]\u001b[0m\u001b[0;34m\u001b[0m\u001b[0;34m\u001b[0m\u001b[0m\n\u001b[0m\u001b[1;32m    540\u001b[0m \u001b[0;34m\u001b[0m\u001b[0m\n\u001b[1;32m    541\u001b[0m \u001b[0;34m\u001b[0m\u001b[0m\n",
            "\u001b[0;32m/usr/local/lib/python3.10/dist-packages/matplotlib/axes/_base.py\u001b[0m in \u001b[0;36m<genexpr>\u001b[0;34m(.0)\u001b[0m\n\u001b[1;32m    530\u001b[0m             \u001b[0mlabels\u001b[0m \u001b[0;34m=\u001b[0m \u001b[0;34m[\u001b[0m\u001b[0mlabel\u001b[0m\u001b[0;34m]\u001b[0m \u001b[0;34m*\u001b[0m \u001b[0mn_datasets\u001b[0m\u001b[0;34m\u001b[0m\u001b[0;34m\u001b[0m\u001b[0m\n\u001b[1;32m    531\u001b[0m \u001b[0;34m\u001b[0m\u001b[0m\n\u001b[0;32m--> 532\u001b[0;31m         result = (make_artist(axes, x[:, j % ncx], y[:, j % ncy], kw,\n\u001b[0m\u001b[1;32m    533\u001b[0m                               {**kwargs, 'label': label})\n\u001b[1;32m    534\u001b[0m                   for j, label in enumerate(labels))\n",
            "\u001b[0;32m/usr/local/lib/python3.10/dist-packages/matplotlib/axes/_base.py\u001b[0m in \u001b[0;36m_makeline\u001b[0;34m(self, axes, x, y, kw, kwargs)\u001b[0m\n\u001b[1;32m    344\u001b[0m         \u001b[0mdefault_dict\u001b[0m \u001b[0;34m=\u001b[0m \u001b[0mself\u001b[0m\u001b[0;34m.\u001b[0m\u001b[0m_getdefaults\u001b[0m\u001b[0;34m(\u001b[0m\u001b[0mset\u001b[0m\u001b[0;34m(\u001b[0m\u001b[0;34m)\u001b[0m\u001b[0;34m,\u001b[0m \u001b[0mkw\u001b[0m\u001b[0;34m)\u001b[0m\u001b[0;34m\u001b[0m\u001b[0;34m\u001b[0m\u001b[0m\n\u001b[1;32m    345\u001b[0m         \u001b[0mself\u001b[0m\u001b[0;34m.\u001b[0m\u001b[0m_setdefaults\u001b[0m\u001b[0;34m(\u001b[0m\u001b[0mdefault_dict\u001b[0m\u001b[0;34m,\u001b[0m \u001b[0mkw\u001b[0m\u001b[0;34m)\u001b[0m\u001b[0;34m\u001b[0m\u001b[0;34m\u001b[0m\u001b[0m\n\u001b[0;32m--> 346\u001b[0;31m         \u001b[0mseg\u001b[0m \u001b[0;34m=\u001b[0m \u001b[0mmlines\u001b[0m\u001b[0;34m.\u001b[0m\u001b[0mLine2D\u001b[0m\u001b[0;34m(\u001b[0m\u001b[0mx\u001b[0m\u001b[0;34m,\u001b[0m \u001b[0my\u001b[0m\u001b[0;34m,\u001b[0m \u001b[0;34m**\u001b[0m\u001b[0mkw\u001b[0m\u001b[0;34m)\u001b[0m\u001b[0;34m\u001b[0m\u001b[0;34m\u001b[0m\u001b[0m\n\u001b[0m\u001b[1;32m    347\u001b[0m         \u001b[0;32mreturn\u001b[0m \u001b[0mseg\u001b[0m\u001b[0;34m,\u001b[0m \u001b[0mkw\u001b[0m\u001b[0;34m\u001b[0m\u001b[0;34m\u001b[0m\u001b[0m\n\u001b[1;32m    348\u001b[0m \u001b[0;34m\u001b[0m\u001b[0m\n",
            "\u001b[0;32m/usr/local/lib/python3.10/dist-packages/matplotlib/lines.py\u001b[0m in \u001b[0;36m__init__\u001b[0;34m(self, xdata, ydata, linewidth, linestyle, color, gapcolor, marker, markersize, markeredgewidth, markeredgecolor, markerfacecolor, markerfacecoloralt, fillstyle, antialiased, dash_capstyle, solid_capstyle, dash_joinstyle, solid_joinstyle, pickradius, drawstyle, markevery, **kwargs)\u001b[0m\n\u001b[1;32m    374\u001b[0m \u001b[0;34m\u001b[0m\u001b[0m\n\u001b[1;32m    375\u001b[0m         \u001b[0mself\u001b[0m\u001b[0;34m.\u001b[0m\u001b[0m_color\u001b[0m \u001b[0;34m=\u001b[0m \u001b[0;32mNone\u001b[0m\u001b[0;34m\u001b[0m\u001b[0;34m\u001b[0m\u001b[0m\n\u001b[0;32m--> 376\u001b[0;31m         \u001b[0mself\u001b[0m\u001b[0;34m.\u001b[0m\u001b[0mset_color\u001b[0m\u001b[0;34m(\u001b[0m\u001b[0mcolor\u001b[0m\u001b[0;34m)\u001b[0m\u001b[0;34m\u001b[0m\u001b[0;34m\u001b[0m\u001b[0m\n\u001b[0m\u001b[1;32m    377\u001b[0m         \u001b[0;32mif\u001b[0m \u001b[0mmarker\u001b[0m \u001b[0;32mis\u001b[0m \u001b[0;32mNone\u001b[0m\u001b[0;34m:\u001b[0m\u001b[0;34m\u001b[0m\u001b[0;34m\u001b[0m\u001b[0m\n\u001b[1;32m    378\u001b[0m             \u001b[0mmarker\u001b[0m \u001b[0;34m=\u001b[0m \u001b[0;34m'none'\u001b[0m  \u001b[0;31m# Default.\u001b[0m\u001b[0;34m\u001b[0m\u001b[0;34m\u001b[0m\u001b[0m\n",
            "\u001b[0;32m/usr/local/lib/python3.10/dist-packages/matplotlib/lines.py\u001b[0m in \u001b[0;36mset_color\u001b[0;34m(self, color)\u001b[0m\n\u001b[1;32m   1059\u001b[0m         \u001b[0mcolor\u001b[0m \u001b[0;34m:\u001b[0m \u001b[0mcolor\u001b[0m\u001b[0;34m\u001b[0m\u001b[0;34m\u001b[0m\u001b[0m\n\u001b[1;32m   1060\u001b[0m         \"\"\"\n\u001b[0;32m-> 1061\u001b[0;31m         \u001b[0mmcolors\u001b[0m\u001b[0;34m.\u001b[0m\u001b[0m_check_color_like\u001b[0m\u001b[0;34m(\u001b[0m\u001b[0mcolor\u001b[0m\u001b[0;34m=\u001b[0m\u001b[0mcolor\u001b[0m\u001b[0;34m)\u001b[0m\u001b[0;34m\u001b[0m\u001b[0;34m\u001b[0m\u001b[0m\n\u001b[0m\u001b[1;32m   1062\u001b[0m         \u001b[0mself\u001b[0m\u001b[0;34m.\u001b[0m\u001b[0m_color\u001b[0m \u001b[0;34m=\u001b[0m \u001b[0mcolor\u001b[0m\u001b[0;34m\u001b[0m\u001b[0;34m\u001b[0m\u001b[0m\n\u001b[1;32m   1063\u001b[0m         \u001b[0mself\u001b[0m\u001b[0;34m.\u001b[0m\u001b[0mstale\u001b[0m \u001b[0;34m=\u001b[0m \u001b[0;32mTrue\u001b[0m\u001b[0;34m\u001b[0m\u001b[0;34m\u001b[0m\u001b[0m\n",
            "\u001b[0;32m/usr/local/lib/python3.10/dist-packages/matplotlib/colors.py\u001b[0m in \u001b[0;36m_check_color_like\u001b[0;34m(**kwargs)\u001b[0m\n\u001b[1;32m    244\u001b[0m     \u001b[0;32mfor\u001b[0m \u001b[0mk\u001b[0m\u001b[0;34m,\u001b[0m \u001b[0mv\u001b[0m \u001b[0;32min\u001b[0m \u001b[0mkwargs\u001b[0m\u001b[0;34m.\u001b[0m\u001b[0mitems\u001b[0m\u001b[0;34m(\u001b[0m\u001b[0;34m)\u001b[0m\u001b[0;34m:\u001b[0m\u001b[0;34m\u001b[0m\u001b[0;34m\u001b[0m\u001b[0m\n\u001b[1;32m    245\u001b[0m         \u001b[0;32mif\u001b[0m \u001b[0;32mnot\u001b[0m \u001b[0mis_color_like\u001b[0m\u001b[0;34m(\u001b[0m\u001b[0mv\u001b[0m\u001b[0;34m)\u001b[0m\u001b[0;34m:\u001b[0m\u001b[0;34m\u001b[0m\u001b[0;34m\u001b[0m\u001b[0m\n\u001b[0;32m--> 246\u001b[0;31m             \u001b[0;32mraise\u001b[0m \u001b[0mValueError\u001b[0m\u001b[0;34m(\u001b[0m\u001b[0;34mf\"{v!r} is not a valid value for {k}\"\u001b[0m\u001b[0;34m)\u001b[0m\u001b[0;34m\u001b[0m\u001b[0;34m\u001b[0m\u001b[0m\n\u001b[0m\u001b[1;32m    247\u001b[0m \u001b[0;34m\u001b[0m\u001b[0m\n\u001b[1;32m    248\u001b[0m \u001b[0;34m\u001b[0m\u001b[0m\n",
            "\u001b[0;31mValueError\u001b[0m: 'p' is not a valid value for color"
          ]
        },
        {
          "output_type": "display_data",
          "data": {
            "text/plain": [
              "<Figure size 640x480 with 1 Axes>"
            ],
            "image/png": "[encoded data removed]"
          },
          "metadata": {}
        }
      ],
      "source": [
        "#i need some sort of comparrison to prove things are getting better\n",
        "\n",
        "condition = 356\n",
        "\n",
        "def kalmanFilterEq(x_data):\n",
        "  T = 16\n",
        "  mu = mu0.reshape(10)\n",
        "  Sigma = Sigma0\n",
        "  z_outputs = []\n",
        "  R_inv = np.linalg.inv(R)\n",
        "\n",
        "  for t in range(T):\n",
        "      S = A @ Sigma @ A.T + Q\n",
        "      Sigma_inv_new = C.T @ R_inv @ C + np.linalg.inv(S)\n",
        "      Sigma_new = np.linalg.inv(Sigma_inv_new)\n",
        "      mu_new = A@mu + Sigma_new@C.T@R_inv@(x_data[t]-C@A@mu)#Sigma_new @ (np.linalg.inv(S) @ A @ mu + C.T @ R_inv @ x_data[t])\n",
        "      z_outputs.append(mu_new)\n",
        "      mu, Sigma = mu_new, Sigma_new\n",
        "\n",
        "  z_outputs = np.array(z_outputs)\n",
        "  return z_outputs\n",
        "\n",
        "\n",
        "\n",
        "kalfilt = kalmanFilterEq(hand_train.reshape(400,16,2)[condition])\n",
        "\n",
        "def conBACK(kalkalfilt):\n",
        "  datacheck = kalfilt #smooth_data[condition]\n",
        "  result2 = np.empty((2,16))\n",
        "  for i in range(len(datacheck)):\n",
        "    datacheckchecked = C@datacheck[i].T\n",
        "    result2[0,i] = datacheckchecked[0]\n",
        "    result2[1,i] = datacheckchecked[1]\n",
        "  return result2\n",
        "\n",
        "\n",
        "filtered_neuro_train = filtered_neuro_train.reshape(400,16,10)\n",
        "x0 = conBACK(filtered_neuro_train[condition])\n",
        "x1 = conBACK(kalfilt)\n",
        "x2 = hand_train.reshape(400,2,16)[condition]\n",
        "\n",
        "\n",
        "\n",
        "# Plot both data sets on the same figure\n",
        "plt.plot(x1[0], x1[1], label='vxmu', color='blue', marker='o')\n",
        "plt.plot(x2[0], x2[1], label='train', color='red', marker='s')\n",
        "plt.plot(x0[0], x0[1], label='this', color='p', marker='s')\n",
        "\n",
        "\n",
        "# Highlight the starting node with a different shape (e.g., a star marker)\n",
        "plt.plot(x1[0][0], x1[1][0], marker='*', markersize=15, color='purple', label='Starting Node')\n",
        "plt.plot(x2[0][0], x2[1][0], marker='*', markersize=15, color='orange', label='Starting Node')\n",
        "\n",
        "# Add title, labels, and legend\n",
        "plt.title('Comparison of Two Data Sets')\n",
        "plt.xlabel('X-values')\n",
        "plt.ylabel('Y-values')\n",
        "plt.legend()\n",
        "\n",
        "# Optionally, add a grid\n",
        "plt.grid(True)\n",
        "\n",
        "# Display the plot\n",
        "plt.show()\n"
      ]
    },
    {
      "cell_type": "code",
      "source": [
        "if allah:\n",
        "  break"
      ],
      "metadata": {
        "id": "S5OhRoU1vt2T"
      },
      "execution_count": null,
      "outputs": []
    },
    {
      "cell_type": "markdown",
      "metadata": {
        "id": "eJK7a0edAs4x"
      },
      "source": [
        "### 3.2 Building an LDS model of neural data using supervised learning\n",
        "\n",
        "Conceptually, the latents $z_{k, 1:T}$ introduced above contain signals related to the velocity of the hand, its acceleration, and potentially higher-order derivatives too — all signals which we have good reasons to suspect that neural activity in M1 is strongly related to. Eqs (1) and (2) above provide a good autoregressive prior model for the temporal dynamics of these signals, and you are now going to use this prior in a generative LDS model of _neural data_, substituting the hand-related likelihood (Eq 3) with a neural likelihood:\n",
        "\n",
        "$$\n",
        "(4) \\qquad x_{k, t} = D z_{k, t} + \\xi_{k, t} \\quad \\text{with } \\xi_{k, t} \\sim \\mathcal{N}(0, S)\n",
        "$$\n",
        "\n",
        "where $x_{k, t}$ denotes neural spike counts in the $t^\\text{th}$ time bin of trial $k$.\n",
        "\n",
        "The combination of Eqs (1), (2) and (4) forms an LDS model which you will be able to invert using Kalman filtering to obtain a filtered posterior $p(z_{k', t} | x_{k', 0:t})$ for any test trial $k'$. From there, you will use Eq. (3) to obtain a filtered predictive distribution for the hand velocity in each test trial, $p(v_{k', t} | x_{k', 0:t})$.\n",
        "\n",
        "- <u>Begin by centering the neural data (both training and testing sets) by removing, for each neuron, its mean activity across both trials and time in the training set.</u>\n",
        "- <u>Fit the likelihood parameters $D$ and $S$ through supervised learning, by maximizing the joint log-likelihood $\\log p(\\hat{z}_{k, 1:T}, x_{k, 1:T})$ averaged over all trials in the training set, where $\\hat{z}_{k,1:T}$ is the posterior mean you obtained in Section 3.1.</u>\n",
        "To do this, write down the average joint log likelihood and **show that it is maximized by the following parameter settings, include derivations in the report**:\n",
        "\n",
        "$\n",
        "\\displaystyle D^\\star = \\left( \\sum_{k, t} x_{k, t} \\left( \\hat{z}_{k, t} \\right)^\\top \\right) \\left( \\sum_{k, t} \\hat{z}_{k, t} \\left( \\hat{z}_{k, t} \\right)^\\top \\right)^{-1}\n",
        "$\n",
        "$\n",
        "\\displaystyle S^\\star = \\frac{1}{K T} \\left( \\sum_{k, t} x_{k, t} \\left( x_{k, t} \\right)^\\top - D^\\star \\left( \\sum_{k, t} \\hat{z}_{k, t} \\left( x_{k, t} \\right)^\\top \\right) \\right)\n",
        "$\n",
        "\n",
        "\n",
        "    - $ \\displaystyle D^\\star = \\left(\\sum_{k, t} x_{k, t} \\hat{z}_{k, t}^\\top \\right) \\left( \\sum_{k, t} \\hat{z}_{k, t} \\hat{z}_{k, t}^\\top \\right)^{-1} $\n",
        "    - $ \\displaystyle S^\\star = \\frac{1}{KT} \\left( \\sum_{k, t} x_{k, t} x_{k, t}^\\top - D^\\star \\sum_{k, t} \\hat{z}_{k, t} x_{k, t}^\\top \\right) $ where $K$ is the number of trials in the training set. **Include your derivations in your report.**"
      ]
    },
    {
      "cell_type": "code",
      "execution_count": null,
      "metadata": {
        "id": "qZyMaOYXVVL-"
      },
      "outputs": [],
      "source": [
        "#centering neural data K is number of trials and T is total time\n",
        "neural_train_centered = neural_train - neural_train.mean(axis = (1,2), keepdims = True) #np.mean(neural_train)\n",
        "\n",
        "neural_test = neural_test.reshape(162,100,16)\n",
        "neural_test_centered = neural_test - neural_test.mean(axis = (1,2), keepdims = True)\n",
        "\n",
        "CON_NUM = 400\n",
        "TIME_BINS = 16\n",
        "TIME_BIN_WIDTH = 50\n",
        "#get D\n",
        "z_hat = filtered_neuro_train # mu_mean_pzv\n",
        "#z_hat = filtered_neuro_train - filtered_neuro_train.mean(axis = (1,2), keepdims = True)\n",
        "x = neural_train_centered\n",
        "#reformat\n",
        "x = x.transpose(1,2,0)\n",
        "z_hat = z_hat.reshape(400*16,10).T    #this may need to change for the the trial case\n",
        "x = x.reshape(400*16,162).T\n",
        "\n",
        "D_Star = x@z_hat.T@np.linalg.inv(z_hat@z_hat.T)\n",
        "S_Star = 1/(CON_NUM*TIME_BINS*TIME_BIN_WIDTH) * (x@x.T - D_Star@z_hat@x.T)\n",
        "\n",
        "\n",
        "MATCHECK = z_hat@z_hat.T\n",
        "print(np.array_equal(MATCHECK,MATCHECK.T))\n",
        "\n",
        "\n",
        "'''R = x@x.T - D_Star @ z_hat @ x.T  # (162,6400)\n",
        "S_Star = (R @ R.T) / (CON_NUM * TIME_BINS)'''\n",
        "\n"
      ]
    },
    {
      "cell_type": "code",
      "execution_count": null,
      "metadata": {
        "id": "U87IB7JRtCPl"
      },
      "outputs": [],
      "source": [
        "\n",
        "#make a kalman filter to obtain p(z|x)\n",
        "#format variables\n",
        "x = neural_train\n",
        "\n",
        "# continue to use same mu0 and Sigma0\n",
        "\n",
        "def futureSigma(Last_sigma):\n",
        "  sigma_t_add_one_inv = D_Star.T@np.linalg.inv(S_Star)@D_Star + np.linalg.inv(A@Last_sigma@A.T + Q)\n",
        "  # error S_Star is not a valid covarience matrix\n",
        "  return np.linalg.inv(sigma_t_add_one_inv)\n",
        "\n",
        "def mu_t_add_one(mu_t,x_add_one, future_sigma):\n",
        "\n",
        "  adj_ret_data =  A@mu_t +future_sigma@D_Star.T@np.linalg.inv(S_Star)@(x_add_one-D_Star@A@mu_t)\n",
        "  return adj_ret_data\n",
        "\n",
        "def createmu(x=x,countForn = 400):\n",
        "    # Reshape from 162,400,16 to (400, 162, 16)\n",
        "    x_reshaped = x.transpose(1, 0, 2)\n",
        "    cond_chain = []  # Will hold data for 400 cond\n",
        "    cond_chain_sigma = []\n",
        "\n",
        "    for n in range(countForn):\n",
        "        mu_chain = [mu0]  # Initialize mu_chain with mu0\n",
        "        sequence_length = x.shape[2]  # Should be 16\n",
        "        sigma_chain = [Sigma0]\n",
        "\n",
        "        for number in range(sequence_length - 1):\n",
        "            # Get data from both hands for neuron n at time number + 1\n",
        "            dataLocal_add_x = np.matrix(x_reshaped[n, :, number + 1]).T\n",
        "            future_Sigma = futureSigma(sigma_chain[-1])\n",
        "\n",
        "            # Compute mu_t_add_one using data from both hands\n",
        "            mu_t = mu_t_add_one(\n",
        "                mu_chain[-1],\n",
        "                dataLocal_add_x,\n",
        "                future_Sigma\n",
        "            )\n",
        "\n",
        "\n",
        "            mu_chain.append(mu_t)\n",
        "            sigma_chain.append(future_Sigma)\n",
        "\n",
        "\n",
        "        # Convert mu_chain to a numpy array of shape (16, 162)\n",
        "\n",
        "        mu_chain_array = np.array(mu_chain).T[0]\n",
        "\n",
        "        cond_chain.append(mu_chain_array)\n",
        "\n",
        "        sigma_chain_array = np.array(sigma_chain)\n",
        "        cond_chain_sigma.append(sigma_chain_array)\n",
        "\n",
        "    # Convert neuron_chain to a numpy array of shape (400, 16, 162)\n",
        "    neuron_chain_array = np.array(cond_chain)\n",
        "\n",
        "    neuron_sigma_chain_array = np.array(cond_chain_sigma)\n",
        "\n",
        "    # go to shape (400, 162, 16)\n",
        "    neuron_chain_array = neuron_chain_array.transpose(0, 2, 1)\n",
        "    #neuron_sigma_chain_array = neuron_sigma_chain_array.transpose(0, 2, 1)\n",
        "\n",
        "    return neuron_chain_array, neuron_sigma_chain_array\n",
        "\n",
        "PZgivenX =createmu()[0]\n",
        "PZgivenX_sigma = createmu()[1]\n",
        "print(PZgivenX.shape)\n",
        "print(PZgivenX_sigma.shape )\n",
        "\n",
        "\n"
      ]
    },
    {
      "cell_type": "code",
      "execution_count": null,
      "metadata": {
        "id": "2L73P_ZiE6_T"
      },
      "outputs": [],
      "source": [
        "#first gather the probabilities P(z|x)\n",
        "\n",
        "\n",
        "result_vxMu = np.empty((400,2,16))\n",
        "result_vxSigma = np.empty((400,16,2,2))\n",
        "for i in range(400):\n",
        "    A_PZX = PZgivenX[i,:,:]  # (16,10)\n",
        "    result_vxMu[i,:,:] = C @ A_PZX.T\n",
        "\n",
        "\n",
        "print(result_vxMu.shape)\n",
        "\n",
        "\n"
      ]
    },
    {
      "cell_type": "code",
      "execution_count": null,
      "metadata": {
        "id": "b6mgILNL8rky"
      },
      "outputs": [],
      "source": [
        "print(result_vxMu.shape)\n",
        "print(hand_train.shape)\n",
        "print(PZgivenX.shape)"
      ]
    },
    {
      "cell_type": "code",
      "execution_count": null,
      "metadata": {
        "id": "WV1HtRMy5oED"
      },
      "outputs": [],
      "source": [
        "\n",
        "condition = 90\n",
        "\n",
        "x1 = result_vxMu[condition]\n",
        "x2 = hand_train.reshape(400,2,16)[condition]\n",
        "\n",
        "\n",
        "# Plot both data sets on the same figure\n",
        "plt.plot(x1[0], x1[1], label='vxmu', color='blue', marker='o')\n",
        "plt.plot(x2[0], x2[1], label='train', color='red', marker='s')\n",
        "plt.plot(y1[condition][0], y1[condition][1], label='linear reg', color='orange', marker='p')\n",
        "# Add title, labels, and legend\n",
        "plt.title('Comparison of Two Data Sets')\n",
        "plt.xlabel('X-values')\n",
        "plt.ylabel('Y-values')\n",
        "plt.legend()\n",
        "\n",
        "# Optionally, add a grid\n",
        "plt.grid(True)\n",
        "\n",
        "# Display the plot\n",
        "plt.show()"
      ]
    },
    {
      "cell_type": "markdown",
      "metadata": {
        "id": "tRRvxIFfAs4x"
      },
      "source": [
        "### 3.3 Using Kalman filtering to predict the hand velocity\n",
        "\n",
        "- Based on the model obtained in Section 3.2, <u>write your own Kalman filter implementation and compute the filtered posterior $p(z_{k', t} | x_{k', 0:t}) $ for each trial $k'$ in the test set.</u> What we are really interested in is the mean $\\bar{z}_{k', t}$ of this filtered posterior, as our best prediction of the momentary hand velocity $v_{k', t}$ is then given by $\\hat{v}_{k', t} = C \\bar{z}_{k', t}$.\n",
        "- <u>Submit your predictions to http://4G10.cbl-cambridge.org (note: http, not https) in the same format as described in Section 2. Please select \"Kalman filtering\" in the dropdown list. Once again, you will receive immediate feedback in the form of an $R^2$ coefficient.</u> **Include this result in your report, and discuss; in particular, why do you think these predictions are much better than those of Section 2?**\n",
        "- As in Section 2, **comment on the suitability of this more sophisticated decoding strategy for online decoding of movement in a BCI context**.\n",
        "- Finally, **what approach(es) would you suggest to improve decoding performance even further? Include a discussion of the tradeoffs that would arise with these alternative approaches.** (max 1 page in your report)"
      ]
    },
    {
      "cell_type": "code",
      "execution_count": null,
      "metadata": {
        "id": "Bje5T_ozZFIm"
      },
      "outputs": [],
      "source": [
        "#P(z|x) test\n",
        "\n",
        "neural_test_centered_x = neural_test_centered.reshape(162,100,16)\n",
        "\n",
        "test_mu, test_sig = createmu(x=neural_test_centered_x,countForn = 100)\n",
        "\n",
        "result_vxMu_test = np.empty((100,2,16))\n",
        "\n",
        "for i in range(100):\n",
        "    A_test = test_mu[i,:,:]  # (16,10)\n",
        "    result_vxMu_test[i,:,:] = C @ A_test.T\n",
        "\n",
        "\n"
      ]
    },
    {
      "cell_type": "code",
      "execution_count": null,
      "metadata": {
        "id": "e6gKVdajGlUJ"
      },
      "outputs": [],
      "source": [
        "#test sendoff\n",
        "#Your test R2 is: -2.287 this was orginal\n",
        "# new -0.77 new update to put process noise Q in the update to sigma\n",
        "import numpy as np\n",
        "from google.colab import files\n",
        "\n",
        "# Assuming data and W are already defined\n",
        "\n",
        "my_array = result_vxMu_test.reshape(2,100,16)\n",
        "print(my_array.shape)\n",
        "my_array.astype(\"float64\")\n",
        "# Save the file\n",
        "filename = \"filename.npy\"\n",
        "np.save(filename, my_array)\n",
        "\n",
        "# Download the file to the browser\n",
        "#files.download(filename)"
      ]
    },
    {
      "cell_type": "markdown",
      "metadata": {
        "id": "0uVEjBZcAs4y"
      },
      "source": [
        "  # Writing up\n",
        "\n",
        "\n",
        "Please write up your findings in a report to be submitted on Moodle in PDF format, and **include all your code in the Appendix**. Please clearly include your candidate number, NOT your name, on the front page. Your report should address all the questions raised in this notebook, be structured around the Sections of this notebook, and **be a maximum of five A4 pages** excluding any Appendix (minimum font size 11pt, minimum margins 1.5cm on each side).\n",
        "\n",
        "You are very much encouraged to think of data/results visualisations to best support the exposition of your results. You are also encouraged to report on any specific problems/difficulties that arose in your implementation of the various algorithms, and how you addressed those."
      ]
    },
    {
      "cell_type": "code",
      "execution_count": null,
      "metadata": {
        "id": "ttXcMhycAs4y"
      },
      "outputs": [],
      "source": []
    }
  ],
  "metadata": {
    "colab": {
      "provenance": []
    },
    "kernelspec": {
      "display_name": "Python 3 (ipykernel)",
      "language": "python",
      "name": "python3"
    },
    "language_info": {
      "codemirror_mode": {
        "name": "ipython",
        "version": 3
      },
      "file_extension": ".py",
      "mimetype": "text/x-python",
      "name": "python",
      "nbconvert_exporter": "python",
      "pygments_lexer": "ipython3",
      "version": "3.11.2"
    }
  },
  "nbformat": 4,
  "nbformat_minor": 0
}